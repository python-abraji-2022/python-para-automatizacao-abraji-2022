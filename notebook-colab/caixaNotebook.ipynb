{
 "cells": [
  {
   "cell_type": "code",
   "execution_count": 2,
   "metadata": {},
   "outputs": [],
   "source": [
    "from attr import attr\n",
    "from bs4 import BeautifulSoup\n",
    "from selenium import webdriver\n",
    "from selenium.webdriver.chrome.options import Options\n",
    "import time"
   ]
  },
  {
   "cell_type": "code",
   "execution_count": 3,
   "metadata": {},
   "outputs": [],
   "source": [
    "def imprimeInformacoes(resultados):\n",
    "    print('--'*30)\n",
    "    print('--'*10, end='')\n",
    "    print('Dados do Concurso Atual', end='')\n",
    "    print('--'*10)\n",
    "    print('--'*30)\n",
    "    bolas = resultados.find_all('li', attrs={'class': 'ng-binding ng-scope'})\n",
    "\n",
    "    for ball in bolas:\n",
    "        print(f'{ball.text}', end=' - ')\n",
    "\n",
    "    premiacoes = resultados.find(\n",
    "        'div', attrs={'class': 'related-box gray-text no-margin'})\n",
    "\n",
    "    print(premiacoes.find_all('strong')[0].text)\n",
    "    print(premiacoes.find_all('span', attrs={\n",
    "          'class': 'ng-binding ng-hide'})[0].text)\n",
    "    print(premiacoes.find_all('strong')[1].text)\n",
    "    print(premiacoes.find_all('span', attrs={\n",
    "          'class': 'ng-binding ng-hide'})[1].text)\n",
    "    print(premiacoes.find_all('strong')[2].text)\n",
    "    print(premiacoes.find_all('span', attrs={\n",
    "          'class': 'ng-binding ng-hide'})[2].text)"
   ]
  },
  {
   "cell_type": "code",
   "execution_count": 4,
   "metadata": {},
   "outputs": [],
   "source": [
    "def verificaConcurso(resultadoAnterior, numeroConcursoEsperado):\n",
    "    numeroAtual = resultadoAnterior.find('h2').text.split()\n",
    "    print(\n",
    "        f'--------->>>> Concurso Anterior {numeroAtual[2]} Proximo Concurso {numeroConcursoEsperado}')\n",
    "    return numeroConcursoEsperado == numeroAtual[2]"
   ]
  },
  {
   "cell_type": "code",
   "execution_count": 5,
   "metadata": {},
   "outputs": [],
   "source": [
    "chromedriver = 'driver/chromedriver'\n",
    "\n",
    "option = Options()\n",
    "option.headless = True\n",
    "\n",
    "driver = webdriver.Chrome(chromedriver, options=option)\n",
    "\n",
    "url = \"https://loterias.caixa.gov.br/Paginas/Mega-Sena.aspx\"\n",
    "driver.get(url)\n",
    "time.sleep(3)\n",
    "numeroConcursoEsperado = '2507'"
   ]
  },
  {
   "cell_type": "code",
   "execution_count": 6,
   "metadata": {},
   "outputs": [
    {
     "name": "stdout",
     "output_type": "stream",
     "text": [
      "Dentro do Loop\n",
      "--------->>>> Concurso Anterior 2507 Proximo Concurso 2507\n",
      "------------------------------------------------------------\n",
      "--------------------Dados do Concurso Atual--------------------\n",
      "------------------------------------------------------------\n",
      "04 - 06 - 12 - 34 - 35 - 53 - 6 acertos\n",
      "1 apostas ganhadoras, R$ 5.543.989,92\n",
      "5 acertos\n",
      "47 aposta ganhadora, R$ 38.165,32\n",
      "4 acertos\n",
      "3.385 aposta ganhadora, R$ 757,02\n"
     ]
    }
   ],
   "source": [
    "while True:\n",
    "    print('Dentro do Loop')\n",
    "    html = driver.page_source\n",
    "\n",
    "    conteudo = BeautifulSoup(html, 'lxml')\n",
    "    resultados = conteudo.find('div', attrs={'id': 'conteudoresultado'})\n",
    "\n",
    "    if verificaConcurso(resultados, numeroConcursoEsperado):\n",
    "        imprimeInformacoes(resultados)\n",
    "        break\n",
    "    else:\n",
    "        driver.refresh()\n",
    "        time.sleep(3)\n",
    "\n",
    "driver.close()"
   ]
  },
  {
   "cell_type": "code",
   "execution_count": null,
   "metadata": {},
   "outputs": [],
   "source": []
  }
 ],
 "metadata": {
  "kernelspec": {
   "display_name": "Python 3.9.5 64-bit",
   "language": "python",
   "name": "python3"
  },
  "language_info": {
   "codemirror_mode": {
    "name": "ipython",
    "version": 3
   },
   "file_extension": ".py",
   "mimetype": "text/x-python",
   "name": "python",
   "nbconvert_exporter": "python",
   "pygments_lexer": "ipython3",
   "version": "3.9.5"
  },
  "orig_nbformat": 4,
  "vscode": {
   "interpreter": {
    "hash": "bb1a83742e42dad9e4578c61c89159975241d8af945dd80740fc2b8397331043"
   }
  }
 },
 "nbformat": 4,
 "nbformat_minor": 2
}
